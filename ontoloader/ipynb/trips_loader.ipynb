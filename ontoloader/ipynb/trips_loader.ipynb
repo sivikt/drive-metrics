{
 "cells": [
  {
   "cell_type": "code",
   "execution_count": null,
   "metadata": {},
   "outputs": [],
   "source": [
    "import requests"
   ]
  },
  {
   "cell_type": "code",
   "execution_count": null,
   "metadata": {},
   "outputs": [],
   "source": [
    "GB_ENDPOINT = 'http://localhost:7200'\n",
    "REPOSITORY_PATH = '/repositories/dmonto'"
   ]
  },
  {
   "cell_type": "code",
   "execution_count": null,
   "metadata": {},
   "outputs": [],
   "source": [
    "headers = {\n",
    "    'Accept': 'application/sparql-results+json;charset=UTF-8'\n",
    "}\n",
    "\n",
    "params = {\n",
    "    'query': \"\"\"PREFIX rdf: <http://www.w3.org/1999/02/22-rdf-syntax-ns#>\n",
    "                PREFIX owl: <http://www.w3.org/2002/07/owl#>\n",
    "                PREFIX rdfs: <http://www.w3.org/2000/01/rdf-schema#>\n",
    "                PREFIX xsd: <http://www.w3.org/2001/XMLSchema#>\n",
    "                PREFIX roads: <http://www.dmonto.com/ontologies/2019/8/roads#>\n",
    "\n",
    "                CONSTRUCT {\n",
    "                  ?road roads:hasSegment ?segment ;\n",
    "                        roads:hasRouteNumber ?route .\n",
    "                }\n",
    "                WHERE {\n",
    "                    ?road a roads:Road .\n",
    "                    ?road roads:hasSegment ?segment .\n",
    "                    ?road roads:hasRouteNumber ?route .\n",
    "                }\n",
    "             \"\"\"\n",
    "}"
   ]
  },
  {
   "cell_type": "code",
   "execution_count": null,
   "metadata": {},
   "outputs": [],
   "source": [
    "response = requests.get(GB_ENDPOINT + REPOSITORY_PATH, params=params, headers=headers)"
   ]
  },
  {
   "cell_type": "code",
   "execution_count": null,
   "metadata": {},
   "outputs": [],
   "source": [
    "response.text"
   ]
  },
  {
   "cell_type": "code",
   "execution_count": null,
   "metadata": {},
   "outputs": [],
   "source": []
  }
 ],
 "metadata": {
  "kernelspec": {
   "display_name": "Python 3",
   "language": "python",
   "name": "python3"
  },
  "language_info": {
   "codemirror_mode": {
    "name": "ipython",
    "version": 3
   },
   "file_extension": ".py",
   "mimetype": "text/x-python",
   "name": "python",
   "nbconvert_exporter": "python",
   "pygments_lexer": "ipython3",
   "version": "3.7.3"
  }
 },
 "nbformat": 4,
 "nbformat_minor": 2
}
